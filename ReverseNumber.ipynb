{
 "cells": [
  {
   "cell_type": "code",
   "execution_count": 16,
   "id": "b154d519-4126-4fc7-8dc6-a4a12368b67b",
   "metadata": {},
   "outputs": [],
   "source": [
    "def reverse(num):\n",
    "    for i in range(1,len(num)+1):    #設定forloop倒反印出數字\n",
    "        print(num[-i],end='')"
   ]
  },
  {
   "cell_type": "code",
   "execution_count": 17,
   "id": "e4f06932-cdf1-45a1-a8dd-b546d91d03d7",
   "metadata": {
    "tags": []
   },
   "outputs": [
    {
     "name": "stdin",
     "output_type": "stream",
     "text": [
      "Enter an integer: 3214\n"
     ]
    },
    {
     "name": "stdout",
     "output_type": "stream",
     "text": [
      "4123None\n"
     ]
    }
   ],
   "source": [
    "num = (input('Enter an integer:')) #輸入數字\n",
    "print(reverse(num))                #印出數字"
   ]
  }
 ],
 "metadata": {
  "kernelspec": {
   "display_name": "Python 3 (ipykernel)",
   "language": "python",
   "name": "python3"
  },
  "language_info": {
   "codemirror_mode": {
    "name": "ipython",
    "version": 3
   },
   "file_extension": ".py",
   "mimetype": "text/x-python",
   "name": "python",
   "nbconvert_exporter": "python",
   "pygments_lexer": "ipython3",
   "version": "3.9.6"
  }
 },
 "nbformat": 4,
 "nbformat_minor": 5
}
