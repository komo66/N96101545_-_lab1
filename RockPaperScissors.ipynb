{
 "cells": [
  {
   "cell_type": "code",
   "execution_count": 1,
   "id": "5cbf06bb-79bd-4164-9d3d-3dd2be9f4174",
   "metadata": {},
   "outputs": [],
   "source": [
    "import random"
   ]
  },
  {
   "cell_type": "code",
   "execution_count": 2,
   "id": "08b91d04-c71f-4c13-a9a4-8e6dc495d26f",
   "metadata": {},
   "outputs": [
    {
     "name": "stdout",
     "output_type": "stream",
     "text": [
      "Welcome to ROCK, PAPER, SCISSORS game!\n"
     ]
    }
   ],
   "source": [
    "print('Welcome to ROCK, PAPER, SCISSORS game!')"
   ]
  },
  {
   "cell_type": "code",
   "execution_count": 3,
   "id": "d695e273-968b-4f3f-b86c-a91d931d3087",
   "metadata": {},
   "outputs": [
    {
     "name": "stdin",
     "output_type": "stream",
     "text": [
      "Enter your move: (r)ock (p)aper (s)cissors s\n"
     ]
    },
    {
     "name": "stdout",
     "output_type": "stream",
     "text": [
      "SCISSORS versus...\n",
      "SCISSORS\n",
      "It is a tie!\n"
     ]
    },
    {
     "name": "stdin",
     "output_type": "stream",
     "text": [
      "Enter your move: (r)ock (p)aper (s)cissors s\n"
     ]
    },
    {
     "name": "stdout",
     "output_type": "stream",
     "text": [
      "SCISSORS versus...\n",
      "PAPER\n",
      "You win!\n",
      "You have 1 ties and 0 losses before your first win.\n"
     ]
    }
   ],
   "source": [
    "tie=0\n",
    "lose=0\n",
    "\n",
    "while True:   #進行迴圈\n",
    "    mychoose=(input('Enter your move: (r)ock (p)aper (s)cissors')) #輸入自己出拳的選擇\n",
    "    computer=random.choice('rps')                                  #電腦隨機選擇出拳\n",
    "    if mychoose=='r':print('ROCK versus...')                       #印出自己出拳的選擇\n",
    "    elif mychoose=='p':print('PAPER versus...')\n",
    "    elif mychoose=='s':print('SCISSORS versus...')\n",
    "    if computer=='r':print('ROCK')                                 #印出電腦出拳的選擇\n",
    "    elif computer=='p':print('PAPER')\n",
    "    elif computer=='s':print('SCISSORS')\n",
    "        \n",
    "    if((mychoose=='p'and computer=='r')or(mychoose=='s'and computer=='p')or(mychoose=='r'and computer=='s')):  #自己贏電腦輸的條件\n",
    "        print('You win!')\n",
    "        print('You have {} ties and {} losses before your first win.'.format(tie,lose))                        #印出平手次數和輸的次數\n",
    "        break               #在贏之後跳出迴圈\n",
    "    elif mychoose==computer:        #平手的條件\n",
    "        print('It is a tie!')\n",
    "        tie+=1                   #累加平手次數\n",
    "    else:                        #其他皆是自己輸電腦贏的條件\n",
    "        print('You lose!')\n",
    "        lose+=1                 #累加自己輸的次數\n"
   ]
  }
 ],
 "metadata": {
  "kernelspec": {
   "display_name": "Python 3 (ipykernel)",
   "language": "python",
   "name": "python3"
  },
  "language_info": {
   "codemirror_mode": {
    "name": "ipython",
    "version": 3
   },
   "file_extension": ".py",
   "mimetype": "text/x-python",
   "name": "python",
   "nbconvert_exporter": "python",
   "pygments_lexer": "ipython3",
   "version": "3.9.6"
  }
 },
 "nbformat": 4,
 "nbformat_minor": 5
}
