{
 "cells": [
  {
   "cell_type": "code",
   "execution_count": 1,
   "id": "a3c7f3ae-b3fe-4c05-979a-35e6ebc325b5",
   "metadata": {},
   "outputs": [
    {
     "name": "stdin",
     "output_type": "stream",
     "text": [
      "Enter the number of smallest and largest values to remove: 2\n",
      "Enter a value (q or Q to quit): 1001\n",
      "Enter a value (q or Q to quit): 2001\n",
      "Enter a value (q or Q to quit): 1\n",
      "Enter a value (q or Q to quit): 2\n",
      "Enter a value (q or Q to quit): -1001\n",
      "Enter a value (q or Q to quit): -20\n",
      "Enter a value (q or Q to quit): 5\n",
      "Enter a value (q or Q to quit): 4\n",
      "Enter a value (q or Q to quit): 3\n",
      "Enter a value (q or Q to quit): 1\n",
      "Enter a value (q or Q to quit): 2\n",
      "Enter a value (q or Q to quit): 3\n",
      "Enter a value (q or Q to quit): q\n"
     ]
    }
   ],
   "source": [
    "allnumbers=list()              #輸入全部數字的list\n",
    "removednumbers=list()          #被移除數字的list\n",
    "\n",
    "def remove_outliers(n):\n",
    "    for i in range(n):                                  #forloop把即將被刪除的數字先存入removednumbers的list\n",
    "        removednumbers.append(reorganizenumbers[i])\n",
    "        removednumbers.append(reorganizenumbers[-(i+1)])\n",
    "    return sorted(removednumbers)\n",
    "\n",
    "n=int(input('Enter the number of smallest and largest values to remove:'))    #輸入將刪除前後幾筆資料\n",
    "while True:                    #進行迴圈\n",
    "    numbers=(input('Enter a value (q or Q to quit):'))    #輸入數字或是Q,q\n",
    "    if numbers=='Q' or numbers=='q':                      #判斷是否輸入Q,q,如果是將跳離迴圈\n",
    "        break\n",
    "    allnumbers.append(int(numbers))                       #將輸入的數字從字串型態轉換成數字型態,並存入allnumbers的list"
   ]
  },
  {
   "cell_type": "code",
   "execution_count": 2,
   "id": "fc09385b-9912-4a47-b314-3e0d6077f233",
   "metadata": {},
   "outputs": [
    {
     "name": "stdout",
     "output_type": "stream",
     "text": [
      "The original data: [1001, 2001, 1, 2, -1001, -20, 5, 4, 3, 1, 2, 3]\n",
      "The outliers: [-1001, -20, 1001, 2001]\n",
      "The data with the outliers removed: [1, 1, 2, 2, 3, 3, 4, 5]\n"
     ]
    }
   ],
   "source": [
    "print('The original data:',allnumbers)              #印出全部的數字\n",
    "reorganizenumbers=sorted(allnumbers)                #將全部的數字進行大小排列\n",
    "print('The outliers:',remove_outliers(n))           #印出被刪除數字\n",
    "for i in range(n):                                  #forloop把數字刪除\n",
    "    del reorganizenumbers[0]\n",
    "    del reorganizenumbers[-1]\n",
    "print('The data with the outliers removed:',reorganizenumbers)   #印出剩餘數字"
   ]
  },
  {
   "cell_type": "code",
   "execution_count": null,
   "id": "7e4c2710-4c79-4ef9-a364-3bc23e4d389e",
   "metadata": {},
   "outputs": [],
   "source": []
  }
 ],
 "metadata": {
  "kernelspec": {
   "display_name": "Python 3 (ipykernel)",
   "language": "python",
   "name": "python3"
  },
  "language_info": {
   "codemirror_mode": {
    "name": "ipython",
    "version": 3
   },
   "file_extension": ".py",
   "mimetype": "text/x-python",
   "name": "python",
   "nbconvert_exporter": "python",
   "pygments_lexer": "ipython3",
   "version": "3.9.6"
  }
 },
 "nbformat": 4,
 "nbformat_minor": 5
}
